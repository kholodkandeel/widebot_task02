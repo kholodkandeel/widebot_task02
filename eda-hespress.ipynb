{
 "cells": [
  {
   "cell_type": "markdown",
   "id": "a279c64b",
   "metadata": {
    "papermill": {
     "duration": 0.006646,
     "end_time": "2023-07-27T05:18:59.955161",
     "exception": false,
     "start_time": "2023-07-27T05:18:59.948515",
     "status": "completed"
    },
    "tags": []
   },
   "source": [
    "**Importing the needed libraries**"
   ]
  },
  {
   "cell_type": "code",
   "execution_count": 1,
   "id": "b0e1720d",
   "metadata": {
    "execution": {
     "iopub.execute_input": "2023-07-27T05:18:59.966050Z",
     "iopub.status.busy": "2023-07-27T05:18:59.965181Z",
     "iopub.status.idle": "2023-07-27T05:19:02.380020Z",
     "shell.execute_reply": "2023-07-27T05:19:02.378524Z"
    },
    "papermill": {
     "duration": 2.423344,
     "end_time": "2023-07-27T05:19:02.382686",
     "exception": false,
     "start_time": "2023-07-27T05:18:59.959342",
     "status": "completed"
    },
    "tags": []
   },
   "outputs": [
    {
     "name": "stderr",
     "output_type": "stream",
     "text": [
      "/opt/conda/lib/python3.10/site-packages/scipy/__init__.py:146: UserWarning: A NumPy version >=1.16.5 and <1.23.0 is required for this version of SciPy (detected version 1.23.5\n",
      "  warnings.warn(f\"A NumPy version >={np_minversion} and <{np_maxversion}\"\n"
     ]
    }
   ],
   "source": [
    "import os\n",
    "import plotly as py\n",
    "import pandas as pd\n",
    "import numpy as np\n",
    "import seaborn as sns\n",
    "import plotly.colors as pc\n",
    "import plotly.express as px\n",
    "import matplotlib.pyplot as plt"
   ]
  },
  {
   "cell_type": "markdown",
   "id": "ef7f73fa",
   "metadata": {
    "papermill": {
     "duration": 0.003696,
     "end_time": "2023-07-27T05:19:02.390518",
     "exception": false,
     "start_time": "2023-07-27T05:19:02.386822",
     "status": "completed"
    },
    "tags": []
   },
   "source": [
    "**Loading Data**"
   ]
  },
  {
   "cell_type": "code",
   "execution_count": 2,
   "id": "8ee3a3f6",
   "metadata": {
    "execution": {
     "iopub.execute_input": "2023-07-27T05:19:02.400416Z",
     "iopub.status.busy": "2023-07-27T05:19:02.400014Z",
     "iopub.status.idle": "2023-07-27T05:19:04.034624Z",
     "shell.execute_reply": "2023-07-27T05:19:04.032713Z"
    },
    "papermill": {
     "duration": 1.644247,
     "end_time": "2023-07-27T05:19:04.038741",
     "exception": false,
     "start_time": "2023-07-27T05:19:02.394494",
     "status": "completed"
    },
    "tags": []
   },
   "outputs": [],
   "source": [
    "data_frames = []\n",
    "\n",
    "for root, dirs, files in os.walk(\"/kaggle/input/hespress\"):\n",
    "    for file in files:\n",
    "        if file.startswith('stories_') and file.endswith('.csv'):\n",
    "            file_path = os.path.join(root, file)\n",
    "            data_frames.append(pd.read_csv(file_path))\n",
    "\n",
    "df = pd.concat(data_frames, ignore_index=True)"
   ]
  },
  {
   "cell_type": "code",
   "execution_count": 3,
   "id": "49f9b0c3",
   "metadata": {
    "execution": {
     "iopub.execute_input": "2023-07-27T05:19:04.050029Z",
     "iopub.status.busy": "2023-07-27T05:19:04.049543Z",
     "iopub.status.idle": "2023-07-27T05:19:04.078198Z",
     "shell.execute_reply": "2023-07-27T05:19:04.076521Z"
    },
    "papermill": {
     "duration": 0.038181,
     "end_time": "2023-07-27T05:19:04.081494",
     "exception": false,
     "start_time": "2023-07-27T05:19:04.043313",
     "status": "completed"
    },
    "tags": []
   },
   "outputs": [
    {
     "data": {
      "text/html": [
       "<div>\n",
       "<style scoped>\n",
       "    .dataframe tbody tr th:only-of-type {\n",
       "        vertical-align: middle;\n",
       "    }\n",
       "\n",
       "    .dataframe tbody tr th {\n",
       "        vertical-align: top;\n",
       "    }\n",
       "\n",
       "    .dataframe thead th {\n",
       "        text-align: right;\n",
       "    }\n",
       "</style>\n",
       "<table border=\"1\" class=\"dataframe\">\n",
       "  <thead>\n",
       "    <tr style=\"text-align: right;\">\n",
       "      <th></th>\n",
       "      <th>Unnamed: 0</th>\n",
       "      <th>id</th>\n",
       "      <th>title</th>\n",
       "      <th>date</th>\n",
       "      <th>author</th>\n",
       "      <th>story</th>\n",
       "      <th>topic</th>\n",
       "    </tr>\n",
       "  </thead>\n",
       "  <tbody>\n",
       "    <tr>\n",
       "      <th>0</th>\n",
       "      <td>0</td>\n",
       "      <td>9d9ebd0204f811eb92ec646e69d991ea</td>\n",
       "      <td>شهادة طبيب جراح \"تورط\" قنصلا بتر أصبع مسنة</td>\n",
       "      <td>الجمعة 02 أكتوبر 2020 - 20:08</td>\n",
       "      <td>هسبريس من الدار البيضاء</td>\n",
       "      <td>قررت الغرفة الجنائية بمحكمة الاستئناف بمدينة ا...</td>\n",
       "      <td>faits-divers</td>\n",
       "    </tr>\n",
       "    <tr>\n",
       "      <th>1</th>\n",
       "      <td>1</td>\n",
       "      <td>9e96ecc604f811eb836a646e69d991ea</td>\n",
       "      <td>إحباط تهريب أكثر من طن من \"الحشيش\" بأكادير</td>\n",
       "      <td>الجمعة 02 أكتوبر 2020 - 19:37</td>\n",
       "      <td>رشيد بيجيكن من أكادير</td>\n",
       "      <td>تمكنت المصلحة الولائية للشرطة القضائية بمدينة ...</td>\n",
       "      <td>faits-divers</td>\n",
       "    </tr>\n",
       "    <tr>\n",
       "      <th>2</th>\n",
       "      <td>2</td>\n",
       "      <td>9fc1ec4204f811eb8619646e69d991ea</td>\n",
       "      <td>كمين أمن الصويرة يسقط شبكة هجرة غير نظامية</td>\n",
       "      <td>الجمعة 02 أكتوبر 2020 - 18:35</td>\n",
       "      <td>ابراهيم مغراوي من مراكش</td>\n",
       "      <td>أوقفت عناصر فرقة الشرطة القضائية بالمنطقة الإق...</td>\n",
       "      <td>faits-divers</td>\n",
       "    </tr>\n",
       "    <tr>\n",
       "      <th>3</th>\n",
       "      <td>3</td>\n",
       "      <td>a0a2fa9c04f811eb8580646e69d991ea</td>\n",
       "      <td>\"تلميذة زاكورة\" تتهم زوج أختها باستغلالها جنسيا</td>\n",
       "      <td>الجمعة 02 أكتوبر 2020 - 14:20</td>\n",
       "      <td>هسبريس من زاكورة</td>\n",
       "      <td>كشف مصدر أمني مسؤول أن التلميذة المتحدرة من جم...</td>\n",
       "      <td>faits-divers</td>\n",
       "    </tr>\n",
       "    <tr>\n",
       "      <th>4</th>\n",
       "      <td>4</td>\n",
       "      <td>a2d0124a04f811eba88f646e69d991ea</td>\n",
       "      <td>\"أحجار كريمة مزيفة\" تورط أشخاصا بمدينة أكادير</td>\n",
       "      <td>الجمعة 02 أكتوبر 2020 - 10:05</td>\n",
       "      <td>رشيد بيجيكن من أكادير</td>\n",
       "      <td>تمكنت عناصر المصلحة الولائية للشرطة القضائية ب...</td>\n",
       "      <td>faits-divers</td>\n",
       "    </tr>\n",
       "  </tbody>\n",
       "</table>\n",
       "</div>"
      ],
      "text/plain": [
       "   Unnamed: 0                                id  \\\n",
       "0           0  9d9ebd0204f811eb92ec646e69d991ea   \n",
       "1           1  9e96ecc604f811eb836a646e69d991ea   \n",
       "2           2  9fc1ec4204f811eb8619646e69d991ea   \n",
       "3           3  a0a2fa9c04f811eb8580646e69d991ea   \n",
       "4           4  a2d0124a04f811eba88f646e69d991ea   \n",
       "\n",
       "                                             title  \\\n",
       "0       شهادة طبيب جراح \"تورط\" قنصلا بتر أصبع مسنة   \n",
       "1       إحباط تهريب أكثر من طن من \"الحشيش\" بأكادير   \n",
       "2       كمين أمن الصويرة يسقط شبكة هجرة غير نظامية   \n",
       "3  \"تلميذة زاكورة\" تتهم زوج أختها باستغلالها جنسيا   \n",
       "4    \"أحجار كريمة مزيفة\" تورط أشخاصا بمدينة أكادير   \n",
       "\n",
       "                            date                   author  \\\n",
       "0  الجمعة 02 أكتوبر 2020 - 20:08  هسبريس من الدار البيضاء   \n",
       "1  الجمعة 02 أكتوبر 2020 - 19:37    رشيد بيجيكن من أكادير   \n",
       "2  الجمعة 02 أكتوبر 2020 - 18:35  ابراهيم مغراوي من مراكش   \n",
       "3  الجمعة 02 أكتوبر 2020 - 14:20         هسبريس من زاكورة   \n",
       "4  الجمعة 02 أكتوبر 2020 - 10:05    رشيد بيجيكن من أكادير   \n",
       "\n",
       "                                               story         topic  \n",
       "0  قررت الغرفة الجنائية بمحكمة الاستئناف بمدينة ا...  faits-divers  \n",
       "1  تمكنت المصلحة الولائية للشرطة القضائية بمدينة ...  faits-divers  \n",
       "2  أوقفت عناصر فرقة الشرطة القضائية بالمنطقة الإق...  faits-divers  \n",
       "3  كشف مصدر أمني مسؤول أن التلميذة المتحدرة من جم...  faits-divers  \n",
       "4  تمكنت عناصر المصلحة الولائية للشرطة القضائية ب...  faits-divers  "
      ]
     },
     "execution_count": 3,
     "metadata": {},
     "output_type": "execute_result"
    }
   ],
   "source": [
    "df.head()"
   ]
  },
  {
   "cell_type": "code",
   "execution_count": 4,
   "id": "cf4f896e",
   "metadata": {
    "execution": {
     "iopub.execute_input": "2023-07-27T05:19:04.093290Z",
     "iopub.status.busy": "2023-07-27T05:19:04.092873Z",
     "iopub.status.idle": "2023-07-27T05:19:04.106437Z",
     "shell.execute_reply": "2023-07-27T05:19:04.105159Z"
    },
    "papermill": {
     "duration": 0.023396,
     "end_time": "2023-07-27T05:19:04.109589",
     "exception": false,
     "start_time": "2023-07-27T05:19:04.086193",
     "status": "completed"
    },
    "tags": []
   },
   "outputs": [],
   "source": [
    "df.drop(columns=['Unnamed: 0','id', 'author', 'topic'],inplace=True)\n"
   ]
  },
  {
   "cell_type": "markdown",
   "id": "b41f7232",
   "metadata": {
    "papermill": {
     "duration": 0.004347,
     "end_time": "2023-07-27T05:19:04.119162",
     "exception": false,
     "start_time": "2023-07-27T05:19:04.114815",
     "status": "completed"
    },
    "tags": []
   },
   "source": [
    "**removing unnecessary columns**"
   ]
  },
  {
   "cell_type": "code",
   "execution_count": 5,
   "id": "8d4be71d",
   "metadata": {
    "execution": {
     "iopub.execute_input": "2023-07-27T05:19:04.130596Z",
     "iopub.status.busy": "2023-07-27T05:19:04.130167Z",
     "iopub.status.idle": "2023-07-27T05:19:04.143070Z",
     "shell.execute_reply": "2023-07-27T05:19:04.141524Z"
    },
    "papermill": {
     "duration": 0.02186,
     "end_time": "2023-07-27T05:19:04.145827",
     "exception": false,
     "start_time": "2023-07-27T05:19:04.123967",
     "status": "completed"
    },
    "tags": []
   },
   "outputs": [
    {
     "data": {
      "text/html": [
       "<div>\n",
       "<style scoped>\n",
       "    .dataframe tbody tr th:only-of-type {\n",
       "        vertical-align: middle;\n",
       "    }\n",
       "\n",
       "    .dataframe tbody tr th {\n",
       "        vertical-align: top;\n",
       "    }\n",
       "\n",
       "    .dataframe thead th {\n",
       "        text-align: right;\n",
       "    }\n",
       "</style>\n",
       "<table border=\"1\" class=\"dataframe\">\n",
       "  <thead>\n",
       "    <tr style=\"text-align: right;\">\n",
       "      <th></th>\n",
       "      <th>title</th>\n",
       "      <th>date</th>\n",
       "      <th>story</th>\n",
       "    </tr>\n",
       "  </thead>\n",
       "  <tbody>\n",
       "    <tr>\n",
       "      <th>0</th>\n",
       "      <td>شهادة طبيب جراح \"تورط\" قنصلا بتر أصبع مسنة</td>\n",
       "      <td>الجمعة 02 أكتوبر 2020 - 20:08</td>\n",
       "      <td>قررت الغرفة الجنائية بمحكمة الاستئناف بمدينة ا...</td>\n",
       "    </tr>\n",
       "    <tr>\n",
       "      <th>1</th>\n",
       "      <td>إحباط تهريب أكثر من طن من \"الحشيش\" بأكادير</td>\n",
       "      <td>الجمعة 02 أكتوبر 2020 - 19:37</td>\n",
       "      <td>تمكنت المصلحة الولائية للشرطة القضائية بمدينة ...</td>\n",
       "    </tr>\n",
       "    <tr>\n",
       "      <th>2</th>\n",
       "      <td>كمين أمن الصويرة يسقط شبكة هجرة غير نظامية</td>\n",
       "      <td>الجمعة 02 أكتوبر 2020 - 18:35</td>\n",
       "      <td>أوقفت عناصر فرقة الشرطة القضائية بالمنطقة الإق...</td>\n",
       "    </tr>\n",
       "    <tr>\n",
       "      <th>3</th>\n",
       "      <td>\"تلميذة زاكورة\" تتهم زوج أختها باستغلالها جنسيا</td>\n",
       "      <td>الجمعة 02 أكتوبر 2020 - 14:20</td>\n",
       "      <td>كشف مصدر أمني مسؤول أن التلميذة المتحدرة من جم...</td>\n",
       "    </tr>\n",
       "    <tr>\n",
       "      <th>4</th>\n",
       "      <td>\"أحجار كريمة مزيفة\" تورط أشخاصا بمدينة أكادير</td>\n",
       "      <td>الجمعة 02 أكتوبر 2020 - 10:05</td>\n",
       "      <td>تمكنت عناصر المصلحة الولائية للشرطة القضائية ب...</td>\n",
       "    </tr>\n",
       "  </tbody>\n",
       "</table>\n",
       "</div>"
      ],
      "text/plain": [
       "                                             title  \\\n",
       "0       شهادة طبيب جراح \"تورط\" قنصلا بتر أصبع مسنة   \n",
       "1       إحباط تهريب أكثر من طن من \"الحشيش\" بأكادير   \n",
       "2       كمين أمن الصويرة يسقط شبكة هجرة غير نظامية   \n",
       "3  \"تلميذة زاكورة\" تتهم زوج أختها باستغلالها جنسيا   \n",
       "4    \"أحجار كريمة مزيفة\" تورط أشخاصا بمدينة أكادير   \n",
       "\n",
       "                            date  \\\n",
       "0  الجمعة 02 أكتوبر 2020 - 20:08   \n",
       "1  الجمعة 02 أكتوبر 2020 - 19:37   \n",
       "2  الجمعة 02 أكتوبر 2020 - 18:35   \n",
       "3  الجمعة 02 أكتوبر 2020 - 14:20   \n",
       "4  الجمعة 02 أكتوبر 2020 - 10:05   \n",
       "\n",
       "                                               story  \n",
       "0  قررت الغرفة الجنائية بمحكمة الاستئناف بمدينة ا...  \n",
       "1  تمكنت المصلحة الولائية للشرطة القضائية بمدينة ...  \n",
       "2  أوقفت عناصر فرقة الشرطة القضائية بالمنطقة الإق...  \n",
       "3  كشف مصدر أمني مسؤول أن التلميذة المتحدرة من جم...  \n",
       "4  تمكنت عناصر المصلحة الولائية للشرطة القضائية ب...  "
      ]
     },
     "execution_count": 5,
     "metadata": {},
     "output_type": "execute_result"
    }
   ],
   "source": [
    "df.head()"
   ]
  },
  {
   "cell_type": "markdown",
   "id": "a90f7b61",
   "metadata": {
    "papermill": {
     "duration": 0.004341,
     "end_time": "2023-07-27T05:19:04.155080",
     "exception": false,
     "start_time": "2023-07-27T05:19:04.150739",
     "status": "completed"
    },
    "tags": []
   },
   "source": [
    "**conterpution of stories over the years**"
   ]
  },
  {
   "cell_type": "code",
   "execution_count": 6,
   "id": "e3270c0c",
   "metadata": {
    "execution": {
     "iopub.execute_input": "2023-07-27T05:19:04.167029Z",
     "iopub.status.busy": "2023-07-27T05:19:04.166507Z",
     "iopub.status.idle": "2023-07-27T05:19:04.466445Z",
     "shell.execute_reply": "2023-07-27T05:19:04.464443Z"
    },
    "papermill": {
     "duration": 0.310731,
     "end_time": "2023-07-27T05:19:04.470390",
     "exception": false,
     "start_time": "2023-07-27T05:19:04.159659",
     "status": "completed"
    },
    "tags": []
   },
   "outputs": [
    {
     "data": {
      "image/png": "[encoded data removed]",
      "text/plain": [
       "<Figure size 800x600 with 1 Axes>"
      ]
     },
     "metadata": {},
     "output_type": "display_data"
    }
   ],
   "source": [
    "data = {\n",
    "    'years': [2018, 2019, 2019, 2020, 2020, 2020, 2021, 2021, 2021, 2021],\n",
    "}\n",
    "\n",
    "# DataFrame from the sample data\n",
    "Data_Stories = pd.DataFrame(data)\n",
    "\n",
    "year_counts = Data_Stories['years'].value_counts().sort_values(ascending=True)\n",
    "n_colors = len(year_counts)\n",
    "custom_colors = sns.color_palette(\"Blues\", n_colors=n_colors)\n",
    "\n",
    "sns.set_context(\"notebook\")\n",
    "plt.figure(figsize=(8, 6))\n",
    "\n",
    "sns.barplot(x=year_counts.index, y=year_counts, palette=custom_colors, order=year_counts.index)\n",
    "\n",
    "plt.xticks(rotation=90)\n",
    "\n",
    "plt.xlabel('Year')\n",
    "plt.ylabel('Count')\n",
    "\n",
    "plt.show()"
   ]
  },
  {
   "cell_type": "code",
   "execution_count": 7,
   "id": "b2df36b9",
   "metadata": {
    "execution": {
     "iopub.execute_input": "2023-07-27T05:19:04.484181Z",
     "iopub.status.busy": "2023-07-27T05:19:04.483578Z",
     "iopub.status.idle": "2023-07-27T05:19:10.152756Z",
     "shell.execute_reply": "2023-07-27T05:19:10.151427Z"
    },
    "papermill": {
     "duration": 5.679727,
     "end_time": "2023-07-27T05:19:10.155798",
     "exception": false,
     "start_time": "2023-07-27T05:19:04.476071",
     "status": "completed"
    },
    "tags": []
   },
   "outputs": [],
   "source": [
    "data_frames = []\n",
    "for root, dirs, files in os.walk(\"/kaggle/input/hespress\"):\n",
    "    for file in files:\n",
    "        if file.startswith('comments_') and file.endswith('.csv'):\n",
    "            file_path = os.path.join(root, file)\n",
    "            data_frames.append(pd.read_csv(file_path))\n",
    "\n",
    "df = pd.concat(data_frames, ignore_index=True)"
   ]
  },
  {
   "cell_type": "code",
   "execution_count": 8,
   "id": "0e138925",
   "metadata": {
    "execution": {
     "iopub.execute_input": "2023-07-27T05:19:10.169709Z",
     "iopub.status.busy": "2023-07-27T05:19:10.169195Z",
     "iopub.status.idle": "2023-07-27T05:19:10.182250Z",
     "shell.execute_reply": "2023-07-27T05:19:10.181024Z"
    },
    "papermill": {
     "duration": 0.023791,
     "end_time": "2023-07-27T05:19:10.184917",
     "exception": false,
     "start_time": "2023-07-27T05:19:10.161126",
     "status": "completed"
    },
    "tags": []
   },
   "outputs": [
    {
     "data": {
      "text/html": [
       "<div>\n",
       "<style scoped>\n",
       "    .dataframe tbody tr th:only-of-type {\n",
       "        vertical-align: middle;\n",
       "    }\n",
       "\n",
       "    .dataframe tbody tr th {\n",
       "        vertical-align: top;\n",
       "    }\n",
       "\n",
       "    .dataframe thead th {\n",
       "        text-align: right;\n",
       "    }\n",
       "</style>\n",
       "<table border=\"1\" class=\"dataframe\">\n",
       "  <thead>\n",
       "    <tr style=\"text-align: right;\">\n",
       "      <th></th>\n",
       "      <th>Unnamed: 0</th>\n",
       "      <th>postId</th>\n",
       "      <th>comment</th>\n",
       "      <th>score</th>\n",
       "      <th>topic</th>\n",
       "    </tr>\n",
       "  </thead>\n",
       "  <tbody>\n",
       "    <tr>\n",
       "      <th>0</th>\n",
       "      <td>0</td>\n",
       "      <td>07b94f7404ee11eb89f9646e69d991ea</td>\n",
       "      <td>سيذكر التاريخ أن سياح أجانب دخلوا المغرب و موا...</td>\n",
       "      <td>428</td>\n",
       "      <td>marocains-du-monde</td>\n",
       "    </tr>\n",
       "    <tr>\n",
       "      <th>1</th>\n",
       "      <td>1</td>\n",
       "      <td>07b94f7404ee11eb89f9646e69d991ea</td>\n",
       "      <td>الحكومات لي كتحتارم شعوبها،رجعت مواطنين الحاصل...</td>\n",
       "      <td>303</td>\n",
       "      <td>marocains-du-monde</td>\n",
       "    </tr>\n",
       "    <tr>\n",
       "      <th>2</th>\n",
       "      <td>2</td>\n",
       "      <td>07b94f7404ee11eb89f9646e69d991ea</td>\n",
       "      <td>وايلي حتى فات الفوت عاد سولني كيف ابقيت ويلي و...</td>\n",
       "      <td>154</td>\n",
       "      <td>marocains-du-monde</td>\n",
       "    </tr>\n",
       "    <tr>\n",
       "      <th>3</th>\n",
       "      <td>3</td>\n",
       "      <td>07b94f7404ee11eb89f9646e69d991ea</td>\n",
       "      <td>الله اعلم لماذا كل هذا التأخر!!! شكرا على ستة ...</td>\n",
       "      <td>107</td>\n",
       "      <td>marocains-du-monde</td>\n",
       "    </tr>\n",
       "    <tr>\n",
       "      <th>4</th>\n",
       "      <td>4</td>\n",
       "      <td>07b94f7404ee11eb89f9646e69d991ea</td>\n",
       "      <td>لقد تأخرت السلطات المغربية كثيرا لإعادة هؤلاء ...</td>\n",
       "      <td>169</td>\n",
       "      <td>marocains-du-monde</td>\n",
       "    </tr>\n",
       "  </tbody>\n",
       "</table>\n",
       "</div>"
      ],
      "text/plain": [
       "   Unnamed: 0                            postId  \\\n",
       "0           0  07b94f7404ee11eb89f9646e69d991ea   \n",
       "1           1  07b94f7404ee11eb89f9646e69d991ea   \n",
       "2           2  07b94f7404ee11eb89f9646e69d991ea   \n",
       "3           3  07b94f7404ee11eb89f9646e69d991ea   \n",
       "4           4  07b94f7404ee11eb89f9646e69d991ea   \n",
       "\n",
       "                                             comment  score  \\\n",
       "0  سيذكر التاريخ أن سياح أجانب دخلوا المغرب و موا...    428   \n",
       "1  الحكومات لي كتحتارم شعوبها،رجعت مواطنين الحاصل...    303   \n",
       "2  وايلي حتى فات الفوت عاد سولني كيف ابقيت ويلي و...    154   \n",
       "3  الله اعلم لماذا كل هذا التأخر!!! شكرا على ستة ...    107   \n",
       "4  لقد تأخرت السلطات المغربية كثيرا لإعادة هؤلاء ...    169   \n",
       "\n",
       "                topic  \n",
       "0  marocains-du-monde  \n",
       "1  marocains-du-monde  \n",
       "2  marocains-du-monde  \n",
       "3  marocains-du-monde  \n",
       "4  marocains-du-monde  "
      ]
     },
     "execution_count": 8,
     "metadata": {},
     "output_type": "execute_result"
    }
   ],
   "source": [
    "df.head()"
   ]
  },
  {
   "cell_type": "code",
   "execution_count": 9,
   "id": "12c28bcb",
   "metadata": {
    "execution": {
     "iopub.execute_input": "2023-07-27T05:19:10.197351Z",
     "iopub.status.busy": "2023-07-27T05:19:10.196910Z",
     "iopub.status.idle": "2023-07-27T05:19:10.227886Z",
     "shell.execute_reply": "2023-07-27T05:19:10.226608Z"
    },
    "papermill": {
     "duration": 0.040503,
     "end_time": "2023-07-27T05:19:10.230613",
     "exception": false,
     "start_time": "2023-07-27T05:19:10.190110",
     "status": "completed"
    },
    "tags": []
   },
   "outputs": [
    {
     "data": {
      "text/html": [
       "<div>\n",
       "<style scoped>\n",
       "    .dataframe tbody tr th:only-of-type {\n",
       "        vertical-align: middle;\n",
       "    }\n",
       "\n",
       "    .dataframe tbody tr th {\n",
       "        vertical-align: top;\n",
       "    }\n",
       "\n",
       "    .dataframe thead th {\n",
       "        text-align: right;\n",
       "    }\n",
       "</style>\n",
       "<table border=\"1\" class=\"dataframe\">\n",
       "  <thead>\n",
       "    <tr style=\"text-align: right;\">\n",
       "      <th></th>\n",
       "      <th>comment</th>\n",
       "      <th>topic</th>\n",
       "    </tr>\n",
       "  </thead>\n",
       "  <tbody>\n",
       "    <tr>\n",
       "      <th>0</th>\n",
       "      <td>سيذكر التاريخ أن سياح أجانب دخلوا المغرب و موا...</td>\n",
       "      <td>marocains-du-monde</td>\n",
       "    </tr>\n",
       "    <tr>\n",
       "      <th>1</th>\n",
       "      <td>الحكومات لي كتحتارم شعوبها،رجعت مواطنين الحاصل...</td>\n",
       "      <td>marocains-du-monde</td>\n",
       "    </tr>\n",
       "    <tr>\n",
       "      <th>2</th>\n",
       "      <td>وايلي حتى فات الفوت عاد سولني كيف ابقيت ويلي و...</td>\n",
       "      <td>marocains-du-monde</td>\n",
       "    </tr>\n",
       "    <tr>\n",
       "      <th>3</th>\n",
       "      <td>الله اعلم لماذا كل هذا التأخر!!! شكرا على ستة ...</td>\n",
       "      <td>marocains-du-monde</td>\n",
       "    </tr>\n",
       "    <tr>\n",
       "      <th>4</th>\n",
       "      <td>لقد تأخرت السلطات المغربية كثيرا لإعادة هؤلاء ...</td>\n",
       "      <td>marocains-du-monde</td>\n",
       "    </tr>\n",
       "  </tbody>\n",
       "</table>\n",
       "</div>"
      ],
      "text/plain": [
       "                                             comment               topic\n",
       "0  سيذكر التاريخ أن سياح أجانب دخلوا المغرب و موا...  marocains-du-monde\n",
       "1  الحكومات لي كتحتارم شعوبها،رجعت مواطنين الحاصل...  marocains-du-monde\n",
       "2  وايلي حتى فات الفوت عاد سولني كيف ابقيت ويلي و...  marocains-du-monde\n",
       "3  الله اعلم لماذا كل هذا التأخر!!! شكرا على ستة ...  marocains-du-monde\n",
       "4  لقد تأخرت السلطات المغربية كثيرا لإعادة هؤلاء ...  marocains-du-monde"
      ]
     },
     "execution_count": 9,
     "metadata": {},
     "output_type": "execute_result"
    }
   ],
   "source": [
    "df.drop(columns=['Unnamed: 0','postId', 'score'],inplace=True)\n",
    "df.head()"
   ]
  },
  {
   "cell_type": "markdown",
   "id": "07914ece",
   "metadata": {
    "papermill": {
     "duration": 0.005534,
     "end_time": "2023-07-27T05:19:10.241950",
     "exception": false,
     "start_time": "2023-07-27T05:19:10.236416",
     "status": "completed"
    },
    "tags": []
   },
   "source": [
    "**visualization shows the most topics that got comment**"
   ]
  },
  {
   "cell_type": "code",
   "execution_count": 10,
   "id": "6b406409",
   "metadata": {
    "execution": {
     "iopub.execute_input": "2023-07-27T05:19:10.254832Z",
     "iopub.status.busy": "2023-07-27T05:19:10.254392Z",
     "iopub.status.idle": "2023-07-27T05:19:10.638433Z",
     "shell.execute_reply": "2023-07-27T05:19:10.637133Z"
    },
    "papermill": {
     "duration": 0.393909,
     "end_time": "2023-07-27T05:19:10.641303",
     "exception": false,
     "start_time": "2023-07-27T05:19:10.247394",
     "status": "completed"
    },
    "tags": []
   },
   "outputs": [
    {
     "data": {
      "image/png": "[encoded data removed]",
      "text/plain": [
       "<Figure size 1200x800 with 1 Axes>"
      ]
     },
     "metadata": {},
     "output_type": "display_data"
    }
   ],
   "source": [
    "sorted_df = df['topic'].value_counts().reset_index().rename(columns={'index': 'Topic', 'topic': 'Count'})\n",
    "sorted_df = sorted_df.sort_values(by='Count', ascending=False)\n",
    "\n",
    "n_colors = len(sorted_df)\n",
    "custom_colors = sns.color_palette(\"Blues\", n_colors=n_colors)\n",
    "custom_colors = custom_colors[::-1]  # Reverse the color list\n",
    "\n",
    "plt.figure(figsize=(12, 8))\n",
    "sns.barplot(data=sorted_df, x='Topic', y='Count', palette=custom_colors)\n",
    "plt.xticks(rotation=90)\n",
    "\n",
    "plt.xlabel('Topic')\n",
    "plt.ylabel('Number of topics')\n",
    "\n",
    "plt.show()"
   ]
  }
 ],
 "metadata": {
  "kernelspec": {
   "display_name": "Python 3",
   "language": "python",
   "name": "python3"
  },
  "language_info": {
   "codemirror_mode": {
    "name": "ipython",
    "version": 3
   },
   "file_extension": ".py",
   "mimetype": "text/x-python",
   "name": "python",
   "nbconvert_exporter": "python",
   "pygments_lexer": "ipython3",
   "version": "3.10.12"
  },
  "papermill": {
   "default_parameters": {},
   "duration": 25.434968,
   "end_time": "2023-07-27T05:19:12.175336",
   "environment_variables": {},
   "exception": null,
   "input_path": "__notebook__.ipynb",
   "output_path": "__notebook__.ipynb",
   "parameters": {},
   "start_time": "2023-07-27T05:18:46.740368",
   "version": "2.4.0"
  }
 },
 "nbformat": 4,
 "nbformat_minor": 5
}
